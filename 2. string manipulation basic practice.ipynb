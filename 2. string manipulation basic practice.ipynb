{
 "cells": [
  {
   "cell_type": "markdown",
   "id": "c01febc4",
   "metadata": {},
   "source": [
    "Ques1: Find first non-repeating element in string"
   ]
  },
  {
   "cell_type": "code",
   "execution_count": null,
   "id": "b276661e",
   "metadata": {},
   "outputs": [
    {
     "name": "stdout",
     "output_type": "stream",
     "text": [
      "d\n"
     ]
    }
   ],
   "source": [
    "# First way\n",
    "# a_str  = 'aaabbbbcccccd'\n",
    "# a_str  = 'aaabbbbcccccdeffffgggghjk'\n",
    "a_str = \"geeksforgeeks\"\n",
    "succ = ''\n",
    "\n",
    "result_str = a_str[0]\n",
    "\n",
    "# first group repeating characters if not already done\n",
    "for i in range(1, len(a_str)):\n",
    "    # if a_str[i] == a_str[i - 1]:\n",
    "    #     result_str += a_str[i]\n",
    "\n",
    "    if a_str[i] not in result_str:\n",
    "        result_str += a_str[i]\n",
    "        continue\n",
    "\n",
    "    elif a_str[i] in result_str:\n",
    "        index = result_str.find(a_str[i])\n",
    "        result_str = result_str[:index+1] + a_str[i] + result_str[index+1:]\n",
    "\n",
    "\n",
    "# find first non-repeating character\n",
    "for i in result_str:\n",
    "    if succ == i:\n",
    "        result_str = result_str.replace(i, \"\")\n",
    "\n",
    "    succ = i\n",
    "\n",
    "print(result_str[0])\n",
    " "
   ]
  },
  {
   "cell_type": "code",
   "execution_count": null,
   "id": "64d18754",
   "metadata": {},
   "outputs": [],
   "source": [
    "# Second way\n",
    "# a_str  = 'aaabbbbcccccd'\n",
    "# a_str  = 'aaabbbbcccccdeffffgggghjk'\n",
    "a_str = \"geeksforgeeks\"\n",
    "succ = ''\n",
    "\n"
   ]
  },
  {
   "cell_type": "code",
   "execution_count": null,
   "id": "78874cfc",
   "metadata": {},
   "outputs": [],
   "source": []
  },
  {
   "cell_type": "code",
   "execution_count": null,
   "id": "ca807475",
   "metadata": {},
   "outputs": [],
   "source": []
  },
  {
   "cell_type": "code",
   "execution_count": null,
   "id": "265cc177",
   "metadata": {},
   "outputs": [],
   "source": []
  },
  {
   "cell_type": "code",
   "execution_count": null,
   "id": "32b4d604",
   "metadata": {},
   "outputs": [],
   "source": []
  },
  {
   "cell_type": "markdown",
   "id": "fd0b110f",
   "metadata": {},
   "source": [
    "Ques2: "
   ]
  },
  {
   "cell_type": "code",
   "execution_count": null,
   "id": "72236006",
   "metadata": {},
   "outputs": [],
   "source": []
  },
  {
   "cell_type": "code",
   "execution_count": null,
   "id": "c627233d",
   "metadata": {},
   "outputs": [],
   "source": []
  },
  {
   "cell_type": "code",
   "execution_count": null,
   "id": "5b78d2cb",
   "metadata": {},
   "outputs": [],
   "source": []
  }
 ],
 "metadata": {
  "kernelspec": {
   "display_name": "Python 3",
   "language": "python",
   "name": "python3"
  },
  "language_info": {
   "codemirror_mode": {
    "name": "ipython",
    "version": 3
   },
   "file_extension": ".py",
   "mimetype": "text/x-python",
   "name": "python",
   "nbconvert_exporter": "python",
   "pygments_lexer": "ipython3",
   "version": "3.13.2"
  }
 },
 "nbformat": 4,
 "nbformat_minor": 5
}
