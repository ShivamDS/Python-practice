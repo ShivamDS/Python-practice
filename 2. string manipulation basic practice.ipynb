{
 "cells": [
  {
   "cell_type": "markdown",
   "id": "c01febc4",
   "metadata": {},
   "source": [
    "Ques1: Find first non-repeating element in string"
   ]
  },
  {
   "cell_type": "code",
   "execution_count": 50,
   "id": "b276661e",
   "metadata": {},
   "outputs": [
    {
     "name": "stdout",
     "output_type": "stream",
     "text": [
      "d\n"
     ]
    }
   ],
   "source": [
    "# First way\n",
    "# a_str  = 'aaabbbbcccccd'\n",
    "# a_str  = 'aaabbbbcccccdeffffgggghjk'\n",
    "a_str = \"geeksforgeeks\"\n",
    "succ = ''\n",
    "\n",
    "result_str = a_str[0]\n",
    "\n",
    "# first group repeating characters if not already done\n",
    "for i in range(1, len(a_str)):\n",
    "    # if a_str[i] == a_str[i - 1]:\n",
    "    #     result_str += a_str[i]\n",
    "\n",
    "    if a_str[i] not in result_str:\n",
    "        result_str += a_str[i]\n",
    "        continue\n",
    "\n",
    "    elif a_str[i] in result_str:\n",
    "        index = result_str.find(a_str[i])\n",
    "        result_str = result_str[:index+1] + a_str[i] + result_str[index+1:]\n",
    "\n",
    "\n",
    "# find first non-repeating character\n",
    "for i in result_str:\n",
    "    if succ == i:\n",
    "        result_str = result_str.replace(i, \"\")\n",
    "\n",
    "    succ = i\n",
    "\n",
    "print(result_str[0])\n",
    " "
   ]
  },
  {
   "cell_type": "code",
   "execution_count": 70,
   "id": "64d18754",
   "metadata": {},
   "outputs": [
    {
     "name": "stdout",
     "output_type": "stream",
     "text": [
      "d\n"
     ]
    }
   ],
   "source": [
    "# Second way\n",
    "# a_str  = 'aaabbbbcccccd'\n",
    "# a_str  = 'aaabbbbcccccdeffffgggghjk'\n",
    "a_str = \"geeksforgeeks\"\n",
    "duplicates_list = []\n",
    "result_list = []\n",
    "\n",
    "# store elemets in a list\n",
    "for i in a_str:\n",
    "    if i in result_list:\n",
    "        duplicates_list.append(i)\n",
    "\n",
    "    result_list.append(i)\n",
    "\n",
    "# remove duplicated elemets from string\n",
    "for i in duplicates_list:\n",
    "    a_str = a_str.replace(i, \"\")\n",
    "\n",
    "print(a_str[0])\n"
   ]
  },
  {
   "cell_type": "code",
   "execution_count": 77,
   "id": "bd793e73",
   "metadata": {},
   "outputs": [
    {
     "name": "stdout",
     "output_type": "stream",
     "text": [
      "f\n"
     ]
    }
   ],
   "source": [
    "# third way\n",
    "a_str = \"geeksforgeeks\"\n",
    "# a_str  = 'aaabbbbcccccdeffffgggghjk'\n",
    "\n",
    "for i in a_str:\n",
    "    # print(len(a_str), len(a_str.replace(i, \"\")))  to check working\n",
    "    if len(a_str) - len(a_str.replace(i, \"\")) > 1:\n",
    "        a_str = a_str.replace(i, \"\")\n",
    "\n",
    "print(a_str[0])"
   ]
  },
  {
   "cell_type": "markdown",
   "id": "fd0b110f",
   "metadata": {},
   "source": [
    "Ques2: Check whether number is palindrome or not"
   ]
  },
  {
   "cell_type": "code",
   "execution_count": 81,
   "id": "72236006",
   "metadata": {},
   "outputs": [
    {
     "data": {
      "text/plain": [
       "False"
      ]
     },
     "execution_count": 81,
     "metadata": {},
     "output_type": "execute_result"
    }
   ],
   "source": [
    "a = \"moon\"\n",
    "d = a[::-1]\n",
    "\n",
    "a == d"
   ]
  },
  {
   "cell_type": "markdown",
   "id": "8c483e2c",
   "metadata": {},
   "source": [
    "Ques3: Given two strings s1 and s2. Return true if the string s2 can be obtained by rotating (in any direction) string s1 by exactly 2 places, otherwise, false."
   ]
  },
  {
   "cell_type": "code",
   "execution_count": 96,
   "id": "5b78d2cb",
   "metadata": {},
   "outputs": [
    {
     "name": "stdout",
     "output_type": "stream",
     "text": [
      "True\n"
     ]
    }
   ],
   "source": [
    "s1 = \"amazon\"\n",
    "s2 = \"azonam\"\n",
    "# s1 = \"ab\"\n",
    "# s2 = \"ba\"\n",
    "\n",
    "if len(s1) != len(s2):\n",
    "    print(False)\n",
    "\n",
    "# left rotation by 2\n",
    "if (s1[2:] + s1[:2]) == s2 or (s1[-2:] + s1[:-2]) == s2:\n",
    "    print(True)\n",
    "else:\n",
    "    print(False)\n"
   ]
  },
  {
   "cell_type": "markdown",
   "id": "07399f3b",
   "metadata": {},
   "source": [
    "Ques4: Given a string. Find all the occurences of characters within the string."
   ]
  },
  {
   "cell_type": "code",
   "execution_count": null,
   "id": "52f1aa9b",
   "metadata": {},
   "outputs": [
    {
     "name": "stdout",
     "output_type": "stream",
     "text": [
      "{'g': 2, 'e': 4, 'k': 2, 's': 2, 'f': 1, 'o': 1, 'r': 1}\n"
     ]
    }
   ],
   "source": [
    "a_str = \"geeksforgeeks\"\n",
    "count_dict = {}\n",
    "\n",
    "for i in a_str:\n",
    "    if i in count_dict:  # can also be written as count_dict.keys(), output will be same\n",
    "        count_dict[i] = count_dict[i] + 1\n",
    "    else:\n",
    "        count_dict[i] = 1\n",
    "\n",
    "print(count_dict)"
   ]
  },
  {
   "cell_type": "markdown",
   "id": "d92682c8",
   "metadata": {},
   "source": [
    "Ques5: Find the Longest Substring Without Repeating Characters"
   ]
  },
  {
   "cell_type": "code",
   "execution_count": 26,
   "id": "e6d62fce",
   "metadata": {},
   "outputs": [
    {
     "name": "stdout",
     "output_type": "stream",
     "text": [
      "5\n"
     ]
    }
   ],
   "source": [
    "input_str = \"sdkjdbgdjdjkdhsdsdsdsdsdsdsdsd\"\n",
    "intermed_str = \"\"\n",
    "x = 0\n",
    "max_length = 0\n",
    "\n",
    "while x <= len(input_str) - 1:\n",
    "    for i in range(x, len(input_str) - 1):\n",
    "        if input_str[i] not in intermed_str:\n",
    "            intermed_str += input_str[i]\n",
    "\n",
    "        else:\n",
    "            break\n",
    "    if len(intermed_str) > max_length:\n",
    "        max_length = len(intermed_str)\n",
    "    intermed_str = \"\"\n",
    "\n",
    "    x += 1\n",
    "\n",
    "print(max_length)\n"
   ]
  },
  {
   "cell_type": "code",
   "execution_count": 25,
   "id": "0e991581",
   "metadata": {},
   "outputs": [
    {
     "name": "stdout",
     "output_type": "stream",
     "text": [
      "5\n"
     ]
    }
   ],
   "source": [
    "def length_of_longest_substring(s: str) -> int:\n",
    "    char_set = set()\n",
    "    left = 0\n",
    "    max_len = 0\n",
    "\n",
    "    for right in range(len(s)):\n",
    "        while s[right] in char_set:\n",
    "            char_set.remove(s[left])\n",
    "            left += 1\n",
    "        char_set.add(s[right])\n",
    "        max_len = max(max_len, right - left + 1)\n",
    "\n",
    "    return max_len\n",
    "\n",
    "# Example usage:\n",
    "input_str = \"sdkjdbgdjdjkdhsdsdsdsdsdsdsdsd\"\n",
    "print(length_of_longest_substring(input_str))  # Output: 3"
   ]
  },
  {
   "cell_type": "code",
   "execution_count": null,
   "id": "9bdcb98e",
   "metadata": {},
   "outputs": [],
   "source": []
  },
  {
   "cell_type": "code",
   "execution_count": null,
   "id": "56b08289",
   "metadata": {},
   "outputs": [],
   "source": []
  },
  {
   "cell_type": "code",
   "execution_count": null,
   "id": "9bd1e5f6",
   "metadata": {},
   "outputs": [],
   "source": []
  },
  {
   "cell_type": "code",
   "execution_count": null,
   "id": "ca61afe5",
   "metadata": {},
   "outputs": [],
   "source": []
  },
  {
   "cell_type": "code",
   "execution_count": null,
   "id": "403e2a8b",
   "metadata": {},
   "outputs": [],
   "source": []
  },
  {
   "cell_type": "code",
   "execution_count": null,
   "id": "46f9869e",
   "metadata": {},
   "outputs": [],
   "source": []
  }
 ],
 "metadata": {
  "kernelspec": {
   "display_name": "Python 3",
   "language": "python",
   "name": "python3"
  },
  "language_info": {
   "codemirror_mode": {
    "name": "ipython",
    "version": 3
   },
   "file_extension": ".py",
   "mimetype": "text/x-python",
   "name": "python",
   "nbconvert_exporter": "python",
   "pygments_lexer": "ipython3",
   "version": "3.13.2"
  }
 },
 "nbformat": 4,
 "nbformat_minor": 5
}
