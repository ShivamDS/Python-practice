{
 "cells": [
  {
   "cell_type": "markdown",
   "id": "c01febc4",
   "metadata": {},
   "source": [
    "Ques1: Find first non-repeating element in string"
   ]
  },
  {
   "cell_type": "code",
   "execution_count": 26,
   "id": "b276661e",
   "metadata": {},
   "outputs": [
    {
     "name": "stdout",
     "output_type": "stream",
     "text": [
      "d\n"
     ]
    }
   ],
   "source": [
    "# First way\n",
    "# a_str  = 'aaabbbbcccccd'\n",
    "a_str  = 'aaabbbbcccccdeffffgggghjk'\n",
    "succ = ''\n",
    "\n",
    "for i in a_str:\n",
    "    if succ == i:\n",
    "        a_str = a_str.replace(i, \"\")\n",
    "\n",
    "    succ = i\n",
    "\n",
    "print(a_str[0])\n",
    " "
   ]
  },
  {
   "cell_type": "markdown",
   "id": "fd0b110f",
   "metadata": {},
   "source": [
    "Ques2: "
   ]
  },
  {
   "cell_type": "code",
   "execution_count": null,
   "id": "2e955233",
   "metadata": {},
   "outputs": [],
   "source": []
  }
 ],
 "metadata": {
  "kernelspec": {
   "display_name": "Python 3",
   "language": "python",
   "name": "python3"
  },
  "language_info": {
   "codemirror_mode": {
    "name": "ipython",
    "version": 3
   },
   "file_extension": ".py",
   "mimetype": "text/x-python",
   "name": "python",
   "nbconvert_exporter": "python",
   "pygments_lexer": "ipython3",
   "version": "3.13.2"
  }
 },
 "nbformat": 4,
 "nbformat_minor": 5
}
