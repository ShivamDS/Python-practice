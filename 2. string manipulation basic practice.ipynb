{
 "cells": [
  {
   "cell_type": "markdown",
   "id": "c01febc4",
   "metadata": {},
   "source": [
    "Ques1: Find the second highest element in a list"
   ]
  },
  {
   "cell_type": "code",
   "execution_count": null,
   "id": "b276661e",
   "metadata": {},
   "outputs": [
    {
     "data": {
      "text/plain": [
       "23"
      ]
     },
     "execution_count": 13,
     "metadata": {},
     "output_type": "execute_result"
    }
   ],
   "source": [
    "# First way\n",
    "a_list = [6, 23, 456, 2, 11, 9]\n",
    "a_list.sort(reverse=True)\n",
    "a_list[1]\n",
    " "
   ]
  },
  {
   "cell_type": "code",
   "execution_count": 30,
   "id": "eb55e524",
   "metadata": {},
   "outputs": [
    {
     "name": "stdout",
     "output_type": "stream",
     "text": [
      "-2\n",
      "-6\n"
     ]
    }
   ],
   "source": [
    "# Second way\n",
    "# a_list = [6, 23, 456, 2, 11, 9]\n",
    "# a_list = [6, 0, 456, -101, 11, 23]\n",
    "# a_list = [456, 6, 0, -101, 11, 23]\n",
    "# a_list = [500, -101, 6, 0, -101, 11, 23, 456]\n",
    "# a_list = [0]\n",
    "a_list = [-6, -23, -456, -2, -11, -9]\n",
    "\n",
    "largest = 0\n",
    "second_largest = 0\n",
    "\n",
    "for i in range(len(a_list)):\n",
    "    if i == 0:\n",
    "        largest =  a_list[i]\n",
    "        # second_largest =  a_list[i]\n",
    "        continue\n",
    "\n",
    "    if a_list[i] > largest:\n",
    "        second_largest = largest\n",
    "        largest = a_list[i]\n",
    "        continue\n",
    "\n",
    "    if a_list[i] > second_largest:\n",
    "        second_largest = a_list[i]\n",
    "\n",
    "print(largest)\n",
    "print(second_largest)\n",
    " "
   ]
  },
  {
   "cell_type": "markdown",
   "id": "fd0b110f",
   "metadata": {},
   "source": [
    "Ques2: "
   ]
  },
  {
   "cell_type": "code",
   "execution_count": null,
   "id": "74deaafc",
   "metadata": {},
   "outputs": [],
   "source": []
  },
  {
   "cell_type": "code",
   "execution_count": null,
   "id": "96896018",
   "metadata": {},
   "outputs": [],
   "source": []
  },
  {
   "cell_type": "code",
   "execution_count": null,
   "id": "019a4c44",
   "metadata": {},
   "outputs": [],
   "source": []
  },
  {
   "cell_type": "code",
   "execution_count": null,
   "id": "ac0d81d3",
   "metadata": {},
   "outputs": [],
   "source": []
  },
  {
   "cell_type": "code",
   "execution_count": null,
   "id": "cc5f3fff",
   "metadata": {},
   "outputs": [],
   "source": []
  },
  {
   "cell_type": "code",
   "execution_count": null,
   "id": "fee38d97",
   "metadata": {},
   "outputs": [],
   "source": []
  },
  {
   "cell_type": "code",
   "execution_count": null,
   "id": "2e955233",
   "metadata": {},
   "outputs": [],
   "source": []
  }
 ],
 "metadata": {
  "kernelspec": {
   "display_name": "Python 3",
   "language": "python",
   "name": "python3"
  },
  "language_info": {
   "codemirror_mode": {
    "name": "ipython",
    "version": 3
   },
   "file_extension": ".py",
   "mimetype": "text/x-python",
   "name": "python",
   "nbconvert_exporter": "python",
   "pygments_lexer": "ipython3",
   "version": "3.13.2"
  }
 },
 "nbformat": 4,
 "nbformat_minor": 5
}
