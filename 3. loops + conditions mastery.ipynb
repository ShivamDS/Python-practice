{
 "cells": [
  {
   "cell_type": "markdown",
   "id": "c01febc4",
   "metadata": {},
   "source": [
    "Ques1: Write a Python program that prints the numbers from 1 to 100. But for multiples of 3, print \"Fizz\" instead of the number and for the multiples of 5, print \"Buzz\". For numbers which are multiples of both 3 and 5, print \"FizzBuzz\"."
   ]
  },
  {
   "cell_type": "code",
   "execution_count": null,
   "id": "b276661e",
   "metadata": {},
   "outputs": [],
   "source": [
    "for i in range(1, 101):\n",
    "    if (i % 3 == 0) and (i % 5 == 0):\n",
    "        print(\"Fizzbuzz\")\n",
    "    \n",
    "    elif (i % 3 == 0):\n",
    "        print(\"Fizz\")\n",
    "\n",
    "    elif (i % 5 == 0):\n",
    "        print(\"buzz\")\n",
    "\n",
    "    else:\n",
    "        print(i)"
   ]
  },
  {
   "cell_type": "markdown",
   "id": "fd0b110f",
   "metadata": {},
   "source": [
    "Ques2: "
   ]
  },
  {
   "cell_type": "code",
   "execution_count": null,
   "id": "019a4c44",
   "metadata": {},
   "outputs": [],
   "source": []
  },
  {
   "cell_type": "code",
   "execution_count": null,
   "id": "ac0d81d3",
   "metadata": {},
   "outputs": [],
   "source": []
  },
  {
   "cell_type": "code",
   "execution_count": null,
   "id": "cc5f3fff",
   "metadata": {},
   "outputs": [],
   "source": []
  },
  {
   "cell_type": "code",
   "execution_count": null,
   "id": "fee38d97",
   "metadata": {},
   "outputs": [],
   "source": []
  },
  {
   "cell_type": "code",
   "execution_count": null,
   "id": "2e955233",
   "metadata": {},
   "outputs": [],
   "source": []
  }
 ],
 "metadata": {
  "kernelspec": {
   "display_name": "Python 3",
   "language": "python",
   "name": "python3"
  },
  "language_info": {
   "codemirror_mode": {
    "name": "ipython",
    "version": 3
   },
   "file_extension": ".py",
   "mimetype": "text/x-python",
   "name": "python",
   "nbconvert_exporter": "python",
   "pygments_lexer": "ipython3",
   "version": "3.13.2"
  }
 },
 "nbformat": 4,
 "nbformat_minor": 5
}
