{
 "cells": [
  {
   "cell_type": "markdown",
   "id": "c01febc4",
   "metadata": {},
   "source": [
    "Ques1: Write a Python program that prints the numbers from 1 to 100. But for multiples of 3, print \"Fizz\" instead of the number and for the multiples of 5, print \"Buzz\". For numbers which are multiples of both 3 and 5, print \"FizzBuzz\"."
   ]
  },
  {
   "cell_type": "code",
   "execution_count": null,
   "id": "b276661e",
   "metadata": {},
   "outputs": [],
   "source": [
    "for i in range(1, 101):\n",
    "    if (i % 3 == 0) and (i % 5 == 0):\n",
    "        print(\"Fizzbuzz\")\n",
    "    \n",
    "    elif (i % 3 == 0):\n",
    "        print(\"Fizz\")\n",
    "\n",
    "    elif (i % 5 == 0):\n",
    "        print(\"buzz\")\n",
    "\n",
    "    else:\n",
    "        print(i)"
   ]
  },
  {
   "cell_type": "markdown",
   "id": "fd0b110f",
   "metadata": {},
   "source": [
    "Ques2: Create full pyramid"
   ]
  },
  {
   "cell_type": "code",
   "execution_count": 4,
   "id": "019a4c44",
   "metadata": {},
   "outputs": [
    {
     "name": "stdout",
     "output_type": "stream",
     "text": [
      "   *   \n",
      "  ***  \n",
      " ***** \n",
      "*******\n"
     ]
    }
   ],
   "source": [
    "spaces = 3\n",
    "stars = 1\n",
    "n = 7\n",
    "\n",
    "while stars != n:\n",
    "  print((\" \" * spaces) + (\"*\" * stars) + (\" \" * spaces))\n",
    "  spaces = spaces - 1\n",
    "  stars = stars + 2\n",
    "\n",
    "print((\" \" * spaces) + (\"*\" * stars) + (\" \" * spaces))"
   ]
  },
  {
   "cell_type": "markdown",
   "id": "d0ee51df",
   "metadata": {},
   "source": [
    "Ques3: Create half pyramid"
   ]
  },
  {
   "cell_type": "code",
   "execution_count": 6,
   "id": "ac0d81d3",
   "metadata": {},
   "outputs": [
    {
     "name": "stdout",
     "output_type": "stream",
     "text": [
      "      *\n",
      "     **\n",
      "    ***\n",
      "   ****\n",
      "  *****\n",
      " ******\n",
      "*******\n"
     ]
    }
   ],
   "source": [
    "\n",
    "spaces = 6\n",
    "stars = 1\n",
    "n = 7\n",
    "\n",
    "while stars != n:\n",
    "    print((\" \" * spaces) + (\"*\" * stars))\n",
    "    spaces = spaces - 1\n",
    "    stars = stars + 1\n",
    "\n",
    "print((\" \" * spaces) + (\"*\" * stars))"
   ]
  },
  {
   "cell_type": "markdown",
   "id": "34b26682",
   "metadata": {},
   "source": [
    "Ques4: Create half/full diamond"
   ]
  },
  {
   "cell_type": "code",
   "execution_count": 8,
   "id": "cc5f3fff",
   "metadata": {},
   "outputs": [
    {
     "name": "stdout",
     "output_type": "stream",
     "text": [
      "      *\n",
      "     **\n",
      "    ***\n",
      "   ****\n",
      "  *****\n",
      " ******\n",
      "*******\n",
      " ******\n",
      "  *****\n",
      "   ****\n",
      "    ***\n",
      "     **\n",
      "      *\n",
      "       \n"
     ]
    }
   ],
   "source": [
    "spaces = 6\n",
    "stars = 1\n",
    "n = 7\n",
    "\n",
    "while stars != n:\n",
    "    print((\" \" * spaces) + (\"*\" * stars))\n",
    "    spaces = spaces - 1\n",
    "    stars = stars + 1\n",
    "\n",
    "while stars != 0:\n",
    "    print((\" \" * spaces) + (\"*\" * stars))\n",
    "    spaces = spaces + 1\n",
    "    stars = stars - 1\n",
    "\n",
    "print((\" \" * spaces) + (\"*\" * stars))"
   ]
  },
  {
   "cell_type": "code",
   "execution_count": 14,
   "id": "2e955233",
   "metadata": {},
   "outputs": [
    {
     "name": "stdout",
     "output_type": "stream",
     "text": [
      "      *      \n",
      "     ***     \n",
      "    *****    \n",
      "   *******   \n",
      "  *********  \n",
      "   *******   \n",
      "    *****    \n",
      "     ***     \n",
      "      *      \n"
     ]
    }
   ],
   "source": [
    "spaces = 6\n",
    "stars = 1\n",
    "n = 7\n",
    "\n",
    "while stars <= n:\n",
    "    print(\" \" * spaces + \"*\" * stars + \" \" * spaces)\n",
    "    spaces = spaces - 1\n",
    "    stars = stars + 2\n",
    "\n",
    "while stars >= 0:\n",
    "    print(\" \" * spaces + \"*\" * stars + \" \" * spaces)\n",
    "    spaces = spaces + 1\n",
    "    stars = stars - 2\n",
    "\n"
   ]
  },
  {
   "cell_type": "markdown",
   "id": "f31558a4",
   "metadata": {},
   "source": [
    "Ques5: Print Hollow Pyramid"
   ]
  },
  {
   "cell_type": "code",
   "execution_count": 24,
   "id": "24be21d2",
   "metadata": {},
   "outputs": [
    {
     "name": "stdout",
     "output_type": "stream",
     "text": [
      "      *      \n",
      "     * *     \n",
      "    *   *    \n",
      "   *     *   \n",
      "  *********  \n"
     ]
    }
   ],
   "source": [
    "spaces = 6\n",
    "stars = 1\n",
    "n = 7\n",
    "\n",
    "while stars <= n:\n",
    "    if stars == 1:\n",
    "        print((\" \" * spaces) + (\"*\" * stars) + (\" \" * spaces))\n",
    "    else:\n",
    "        print((\" \" * spaces) + (\"*\") + (\" \" * (stars - 2)) + (\"*\") + (\" \" * spaces))\n",
    "    spaces = spaces - 1\n",
    "    stars = stars + 2\n",
    "print((\" \" * spaces) + (\"*\" * stars) + (\" \" * spaces))"
   ]
  },
  {
   "cell_type": "markdown",
   "id": "93a810ff",
   "metadata": {},
   "source": [
    "Ques6: Print arrow pattern"
   ]
  },
  {
   "cell_type": "code",
   "execution_count": 29,
   "id": "933dd750",
   "metadata": {},
   "outputs": [
    {
     "name": "stdout",
     "output_type": "stream",
     "text": [
      "*\n",
      " **\n",
      "  ***\n",
      "   ****\n",
      "    *****\n",
      "     ******\n",
      "      *******\n",
      "       ********\n",
      "      *******\n",
      "     ******\n",
      "    *****\n",
      "   ****\n",
      "  ***\n",
      " **\n",
      "*\n",
      "\n"
     ]
    }
   ],
   "source": [
    "spaces = 0\n",
    "stars = 1\n",
    "n = 7\n",
    "\n",
    "while stars <= n:\n",
    "    print((\" \" * spaces) + (\"*\" * stars))\n",
    "    spaces = spaces + 1\n",
    "    stars = stars + 1\n",
    "\n",
    "while stars >= 0:\n",
    "    print((\" \" * spaces) + (\"*\" * stars))\n",
    "    spaces = spaces - 1\n",
    "    stars = stars - 1"
   ]
  },
  {
   "cell_type": "code",
   "execution_count": 40,
   "id": "f9407ae5",
   "metadata": {},
   "outputs": [
    {
     "name": "stdout",
     "output_type": "stream",
     "text": [
      "*                              *\n",
      " **                          **\n",
      "  ***                      ***\n",
      "   ****                  ****\n",
      "    *****              *****\n",
      "     ******          ******\n",
      "      *******      *******\n",
      "       ********  ********\n",
      "      *******      *******\n",
      "     ******          ******\n",
      "    *****              *****\n",
      "   ****                  ****\n",
      "  ***                      ***\n",
      " **                          **\n",
      "*                              *\n",
      "                                  \n"
     ]
    }
   ],
   "source": [
    "spaces = 0\n",
    "stars = 1\n",
    "n = 7\n",
    "right_spaces = 15\n",
    "\n",
    "while stars <= n:\n",
    "    print((\" \" * spaces) + (\"*\" * stars) + (2* right_spaces * \" \") + (\"*\" * stars))\n",
    "    spaces = spaces + 1\n",
    "    stars = stars + 1\n",
    "    right_spaces = right_spaces - 2\n",
    "\n",
    "while stars >= 0:\n",
    "    print((\" \" * spaces) + (\"*\" * stars) + (2* right_spaces * \" \") + (\"*\" * stars))\n",
    "    spaces = spaces - 1\n",
    "    stars = stars - 1\n",
    "    right_spaces = right_spaces + 2"
   ]
  },
  {
   "cell_type": "code",
   "execution_count": null,
   "id": "f7689069",
   "metadata": {},
   "outputs": [],
   "source": []
  },
  {
   "cell_type": "code",
   "execution_count": null,
   "id": "d70d646a",
   "metadata": {},
   "outputs": [],
   "source": []
  },
  {
   "cell_type": "code",
   "execution_count": null,
   "id": "c7103be7",
   "metadata": {},
   "outputs": [],
   "source": []
  },
  {
   "cell_type": "code",
   "execution_count": null,
   "id": "c93ef3a4",
   "metadata": {},
   "outputs": [],
   "source": []
  },
  {
   "cell_type": "code",
   "execution_count": null,
   "id": "43058a9d",
   "metadata": {},
   "outputs": [],
   "source": []
  }
 ],
 "metadata": {
  "kernelspec": {
   "display_name": "Python 3",
   "language": "python",
   "name": "python3"
  },
  "language_info": {
   "codemirror_mode": {
    "name": "ipython",
    "version": 3
   },
   "file_extension": ".py",
   "mimetype": "text/x-python",
   "name": "python",
   "nbconvert_exporter": "python",
   "pygments_lexer": "ipython3",
   "version": "3.13.2"
  }
 },
 "nbformat": 4,
 "nbformat_minor": 5
}
