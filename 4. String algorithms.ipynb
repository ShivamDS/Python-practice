{
 "cells": [
  {
   "cell_type": "markdown",
   "id": "c6b60f7c",
   "metadata": {},
   "source": [
    "Ques1: Remove all duplicates in a string (keep order)"
   ]
  },
  {
   "cell_type": "code",
   "execution_count": 1,
   "id": "2443a35a",
   "metadata": {},
   "outputs": [
    {
     "name": "stdout",
     "output_type": "stream",
     "text": [
      "geksfor\n"
     ]
    }
   ],
   "source": [
    "s = \"geeksforgeeks\"\n",
    "new_str = \"\"\n",
    "\n",
    "for i in s:\n",
    "    if i not in new_str:\n",
    "        new_str += i\n",
    "\n",
    "print(new_str)"
   ]
  },
  {
   "cell_type": "markdown",
   "id": "5c688bf3",
   "metadata": {},
   "source": [
    "Ques2: Compress a string"
   ]
  },
  {
   "cell_type": "code",
   "execution_count": 9,
   "id": "20b85fe1",
   "metadata": {},
   "outputs": [
    {
     "name": "stdout",
     "output_type": "stream",
     "text": [
      "ab3a6c2da3b\n"
     ]
    }
   ],
   "source": [
    "# s = \"aaabb\"   # output: a3b2\n",
    "s = \"abbbaaaaaaccdaaab\" # ab3a6c2da3b\n",
    "new_str = \"\"\n",
    "counter = 0\n",
    "\n",
    "for i in range(len(s)):\n",
    "    if i == 0:\n",
    "        new_str += s[i]\n",
    "        counter += 1\n",
    "    elif s[i] == s[i-1]:\n",
    "        counter += 1\n",
    "    else:\n",
    "        if counter > 1:\n",
    "            new_str += str(counter)\n",
    "        counter = 1\n",
    "        new_str += s[i]\n",
    "\n",
    "if counter > 1:\n",
    "    new_str += str(counter)\n",
    "\n",
    "print(new_str)"
   ]
  },
  {
   "cell_type": "markdown",
   "id": "e7a538e6",
   "metadata": {},
   "source": [
    "Ques3: Check if string are anagrams"
   ]
  },
  {
   "cell_type": "code",
   "execution_count": 10,
   "id": "099abc92",
   "metadata": {},
   "outputs": [
    {
     "name": "stdout",
     "output_type": "stream",
     "text": [
      "Strings are anagrams\n"
     ]
    }
   ],
   "source": [
    "s1 = \"listen\"\n",
    "s2 = \"silent\"\n",
    "counter = 0\n",
    "\n",
    "for i in s1:\n",
    "    if i in s2:\n",
    "        counter += 1\n",
    "\n",
    "if counter == len(s1) == len(s2):\n",
    "    print(\"Strings are anagrams\")"
   ]
  },
  {
   "cell_type": "code",
   "execution_count": 13,
   "id": "2ec28003",
   "metadata": {},
   "outputs": [
    {
     "name": "stdout",
     "output_type": "stream",
     "text": [
      "Strings are anagrams\n"
     ]
    }
   ],
   "source": [
    "# will give wrong output in this case\n",
    "s1 = \"lidaas\"\n",
    "s2 = \"lissad\"\n",
    "counter = 0\n",
    "\n",
    "for i in s1:\n",
    "    if i in s2:\n",
    "        counter += 1\n",
    "\n",
    "if counter == len(s1) == len(s2):\n",
    "    print(\"Strings are anagrams\")"
   ]
  },
  {
   "cell_type": "code",
   "execution_count": 30,
   "id": "0d3cd5ea",
   "metadata": {},
   "outputs": [
    {
     "name": "stdout",
     "output_type": "stream",
     "text": [
      "strings are anagrams\n",
      "{'l': 1, 'i': 1, 's': 1, 't': 1, 'e': 1, 'n': 1}\n",
      "{'s': 1, 'i': 1, 'l': 1, 'e': 1, 'n': 1, 't': 1}\n"
     ]
    }
   ],
   "source": [
    "# better solution\n",
    "\n",
    "s1 = \"listen\"\n",
    "s2 = \"silent\"\n",
    "dict_s1 = {}\n",
    "dict_s2 = {}\n",
    "\n",
    "\n",
    "    # print(\"strings are anagrams\")\n",
    "\n",
    "if len(s1) == len(s2):\n",
    "    for i in range(len(s1)):\n",
    "    # for i in s1:\n",
    "        if s1[i] not in dict_s1:\n",
    "            dict_s1[s1[i]] = 1\n",
    "        else:\n",
    "            dict_s1[s1[i]] += 1\n",
    "\n",
    "        if s2[i] not in dict_s2:\n",
    "            dict_s2[s2[i]] = 1\n",
    "        else:\n",
    "            dict_s2[s2[i]] += 1\n",
    "\n",
    "else:\n",
    "    print(\"strings aren't of same length\")\n",
    "\n",
    "# if len(dict_s1) == len(dict_s2):\n",
    "if dict_s1 == dict_s2:\n",
    "    print(\"strings are anagrams\")\n",
    "\n",
    "print(dict_s1)\n",
    "print(dict_s2)"
   ]
  },
  {
   "cell_type": "markdown",
   "id": "f65dfd3c",
   "metadata": {},
   "source": [
    "Ques4: "
   ]
  },
  {
   "cell_type": "code",
   "execution_count": null,
   "id": "5f661f85",
   "metadata": {},
   "outputs": [],
   "source": []
  },
  {
   "cell_type": "code",
   "execution_count": null,
   "id": "b18fb1e8",
   "metadata": {},
   "outputs": [],
   "source": []
  },
  {
   "cell_type": "code",
   "execution_count": null,
   "id": "39b14d69",
   "metadata": {},
   "outputs": [],
   "source": []
  },
  {
   "cell_type": "code",
   "execution_count": null,
   "id": "47f36aff",
   "metadata": {},
   "outputs": [],
   "source": []
  },
  {
   "cell_type": "code",
   "execution_count": null,
   "id": "7c243c91",
   "metadata": {},
   "outputs": [],
   "source": []
  },
  {
   "cell_type": "code",
   "execution_count": null,
   "id": "38e6a0da",
   "metadata": {},
   "outputs": [],
   "source": []
  },
  {
   "cell_type": "code",
   "execution_count": null,
   "id": "47aa47b2",
   "metadata": {},
   "outputs": [],
   "source": []
  },
  {
   "cell_type": "code",
   "execution_count": null,
   "id": "32fc61d4",
   "metadata": {},
   "outputs": [],
   "source": []
  },
  {
   "cell_type": "code",
   "execution_count": null,
   "id": "01530187",
   "metadata": {},
   "outputs": [],
   "source": []
  },
  {
   "cell_type": "code",
   "execution_count": null,
   "id": "686bb8bb",
   "metadata": {},
   "outputs": [],
   "source": []
  },
  {
   "cell_type": "code",
   "execution_count": null,
   "id": "ce6bb6be",
   "metadata": {},
   "outputs": [],
   "source": []
  },
  {
   "cell_type": "code",
   "execution_count": null,
   "id": "2d7db798",
   "metadata": {},
   "outputs": [],
   "source": []
  },
  {
   "cell_type": "code",
   "execution_count": null,
   "id": "08106666",
   "metadata": {},
   "outputs": [],
   "source": []
  },
  {
   "cell_type": "code",
   "execution_count": null,
   "id": "3f50526f",
   "metadata": {},
   "outputs": [],
   "source": []
  },
  {
   "cell_type": "code",
   "execution_count": null,
   "id": "30579607",
   "metadata": {},
   "outputs": [],
   "source": []
  },
  {
   "cell_type": "code",
   "execution_count": null,
   "id": "3f5f2272",
   "metadata": {},
   "outputs": [],
   "source": []
  },
  {
   "cell_type": "code",
   "execution_count": null,
   "id": "a015f66e",
   "metadata": {},
   "outputs": [],
   "source": []
  },
  {
   "cell_type": "code",
   "execution_count": null,
   "id": "17ed1d8e",
   "metadata": {},
   "outputs": [],
   "source": []
  },
  {
   "cell_type": "code",
   "execution_count": null,
   "id": "8173a3fa",
   "metadata": {},
   "outputs": [],
   "source": []
  },
  {
   "cell_type": "code",
   "execution_count": null,
   "id": "e273b524",
   "metadata": {},
   "outputs": [],
   "source": []
  },
  {
   "cell_type": "code",
   "execution_count": null,
   "id": "e5683eae",
   "metadata": {},
   "outputs": [],
   "source": []
  },
  {
   "cell_type": "code",
   "execution_count": null,
   "id": "26824d7e",
   "metadata": {},
   "outputs": [],
   "source": []
  },
  {
   "cell_type": "code",
   "execution_count": null,
   "id": "b1eac5b0",
   "metadata": {},
   "outputs": [],
   "source": []
  },
  {
   "cell_type": "code",
   "execution_count": null,
   "id": "d8b41a38",
   "metadata": {},
   "outputs": [],
   "source": []
  },
  {
   "cell_type": "code",
   "execution_count": null,
   "id": "ce50ef01",
   "metadata": {},
   "outputs": [],
   "source": []
  },
  {
   "cell_type": "code",
   "execution_count": null,
   "id": "ef89d6ff",
   "metadata": {},
   "outputs": [],
   "source": []
  },
  {
   "cell_type": "code",
   "execution_count": null,
   "id": "48300813",
   "metadata": {},
   "outputs": [],
   "source": []
  },
  {
   "cell_type": "code",
   "execution_count": null,
   "id": "251ff83d",
   "metadata": {},
   "outputs": [],
   "source": []
  },
  {
   "cell_type": "code",
   "execution_count": null,
   "id": "77804517",
   "metadata": {},
   "outputs": [],
   "source": []
  },
  {
   "cell_type": "code",
   "execution_count": null,
   "id": "7f9ce692",
   "metadata": {},
   "outputs": [],
   "source": []
  },
  {
   "cell_type": "code",
   "execution_count": null,
   "id": "45fd0f96",
   "metadata": {},
   "outputs": [],
   "source": []
  },
  {
   "cell_type": "code",
   "execution_count": null,
   "id": "ba6a6eb3",
   "metadata": {},
   "outputs": [],
   "source": []
  },
  {
   "cell_type": "code",
   "execution_count": null,
   "id": "b2a21b0f",
   "metadata": {},
   "outputs": [],
   "source": []
  },
  {
   "cell_type": "code",
   "execution_count": null,
   "id": "9b815622",
   "metadata": {},
   "outputs": [],
   "source": []
  }
 ],
 "metadata": {
  "kernelspec": {
   "display_name": "Python 3",
   "language": "python",
   "name": "python3"
  },
  "language_info": {
   "codemirror_mode": {
    "name": "ipython",
    "version": 3
   },
   "file_extension": ".py",
   "mimetype": "text/x-python",
   "name": "python",
   "nbconvert_exporter": "python",
   "pygments_lexer": "ipython3",
   "version": "3.13.2"
  }
 },
 "nbformat": 4,
 "nbformat_minor": 5
}
