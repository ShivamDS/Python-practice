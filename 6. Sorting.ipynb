{
 "cells": [
  {
   "cell_type": "markdown",
   "id": "3a8b3c6a",
   "metadata": {},
   "source": [
    "Ques1: Implement bubble sort"
   ]
  },
  {
   "cell_type": "code",
   "execution_count": null,
   "id": "a30b679c",
   "metadata": {},
   "outputs": [
    {
     "name": "stdout",
     "output_type": "stream",
     "text": [
      "64\n",
      "34\n",
      "25\n",
      "12\n",
      "22\n",
      "11\n",
      "90\n",
      "{64: 5, 34: 4, 25: 3, 12: 1, 22: 2, 11: 0, 90: 6}\n"
     ]
    }
   ],
   "source": [
    "# using 2 for loops\n",
    "\n",
    "input_str = [64, 34, 25, 12, 22, 11, 90]\n",
    "# Output: [11, 12, 22, 25, 34, 64, 90]\n",
    "count = 0\n",
    "final_dict = {}\n",
    "\n",
    "for i, value in enumerate(input_str):\n",
    "    for j in input_str:\n",
    "        if j < value:\n",
    "            count += 1\n",
    "    \n",
    "    final_dict[value] = count\n",
    "    count = 0\n",
    "\n",
    "for keys in final_dict:\n",
    "    \n",
    "    print(keys)\n",
    "    # print(values)\n",
    "\n",
    "print(final_dict)"
   ]
  }
 ],
 "metadata": {
  "kernelspec": {
   "display_name": "Python 3",
   "language": "python",
   "name": "python3"
  },
  "language_info": {
   "codemirror_mode": {
    "name": "ipython",
    "version": 3
   },
   "file_extension": ".py",
   "mimetype": "text/x-python",
   "name": "python",
   "nbconvert_exporter": "python",
   "pygments_lexer": "ipython3",
   "version": "3.13.2"
  }
 },
 "nbformat": 4,
 "nbformat_minor": 5
}
