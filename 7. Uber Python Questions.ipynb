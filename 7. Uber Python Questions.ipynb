{
 "cells": [
  {
   "cell_type": "markdown",
   "id": "a3b412fb",
   "metadata": {},
   "source": [
    "Q1: Write a function to find the most frequent destination of a user."
   ]
  },
  {
   "cell_type": "code",
   "execution_count": 18,
   "id": "9ad5ac1f",
   "metadata": {},
   "outputs": [],
   "source": [
    "import pandas as pd\n",
    "\n",
    "# Sample data as list of dictionaries\n",
    "data = [\n",
    "    {'user_id': 'U1', 'destination': 'Delhi'},\n",
    "    {'user_id': 'U2', 'destination': 'Mumbai'},\n",
    "    {'user_id': 'U1', 'destination': 'Delhi'},\n",
    "    {'user_id': 'U1', 'destination': 'Bangalore'},\n",
    "    {'user_id': 'U2', 'destination': 'Mumbai'},\n",
    "    {'user_id': 'U1', 'destination': 'Delhi'},\n",
    "    {'user_id': 'U2', 'destination': 'Bangalore'},\n",
    "    {'user_id': 'U3', 'destination': 'Pune'},\n",
    "    {'user_id': 'U3', 'destination': 'Pune'},\n",
    "    {'user_id': 'U3', 'destination': 'Delhi'}\n",
    "]\n",
    "\n",
    "# Create DataFrame\n",
    "df = pd.DataFrame(data)\n"
   ]
  },
  {
   "cell_type": "code",
   "execution_count": 19,
   "id": "b90e7c14",
   "metadata": {},
   "outputs": [
    {
     "data": {
      "text/html": [
       "<div>\n",
       "<style scoped>\n",
       "    .dataframe tbody tr th:only-of-type {\n",
       "        vertical-align: middle;\n",
       "    }\n",
       "\n",
       "    .dataframe tbody tr th {\n",
       "        vertical-align: top;\n",
       "    }\n",
       "\n",
       "    .dataframe thead th {\n",
       "        text-align: right;\n",
       "    }\n",
       "</style>\n",
       "<table border=\"1\" class=\"dataframe\">\n",
       "  <thead>\n",
       "    <tr style=\"text-align: right;\">\n",
       "      <th></th>\n",
       "      <th>user_id</th>\n",
       "      <th>destination</th>\n",
       "      <th>count</th>\n",
       "      <th>rnk</th>\n",
       "    </tr>\n",
       "  </thead>\n",
       "  <tbody>\n",
       "    <tr>\n",
       "      <th>1</th>\n",
       "      <td>U1</td>\n",
       "      <td>Delhi</td>\n",
       "      <td>3</td>\n",
       "      <td>1.0</td>\n",
       "    </tr>\n",
       "    <tr>\n",
       "      <th>3</th>\n",
       "      <td>U2</td>\n",
       "      <td>Mumbai</td>\n",
       "      <td>2</td>\n",
       "      <td>1.0</td>\n",
       "    </tr>\n",
       "    <tr>\n",
       "      <th>5</th>\n",
       "      <td>U3</td>\n",
       "      <td>Pune</td>\n",
       "      <td>2</td>\n",
       "      <td>1.0</td>\n",
       "    </tr>\n",
       "  </tbody>\n",
       "</table>\n",
       "</div>"
      ],
      "text/plain": [
       "  user_id destination  count  rnk\n",
       "1      U1       Delhi      3  1.0\n",
       "3      U2      Mumbai      2  1.0\n",
       "5      U3        Pune      2  1.0"
      ]
     },
     "execution_count": 19,
     "metadata": {},
     "output_type": "execute_result"
    }
   ],
   "source": [
    "grouped = df.groupby(by = ['user_id', 'destination']).value_counts()\n",
    "grouped = grouped.reset_index()\n",
    "\n",
    "grouped['rnk'] = grouped.groupby('user_id')['count'].rank(method = 'dense', ascending = False)\n",
    "grouped[grouped['rnk'] == 1]"
   ]
  },
  {
   "cell_type": "code",
   "execution_count": 23,
   "id": "ecc3712f",
   "metadata": {},
   "outputs": [
    {
     "name": "stdout",
     "output_type": "stream",
     "text": [
      "Delhi\n"
     ]
    }
   ],
   "source": [
    "#second way\n",
    "import pandas as pd\n",
    "\n",
    "# Sample data\n",
    "data = {\n",
    "    'user_id': ['U1', 'U2', 'U1', 'U1', 'U2', 'U1', 'U2', 'U3', 'U3', 'U3'],\n",
    "    'destination': ['Delhi', 'Mumbai', 'Delhi', 'Bangalore', 'Mumbai', 'Delhi', 'Bangalore', 'Pune', 'Pune', 'Delhi']\n",
    "}\n",
    "\n",
    "df = pd.DataFrame(data)\n",
    "\n",
    "# Function to find most frequent destination for a user\n",
    "def most_frequent_destination(df, user_id):\n",
    "    user_data = df[df['user_id'] == user_id]\n",
    "    if user_data.empty:\n",
    "        return None\n",
    "    return user_data['destination'].mode().iloc[0]\n",
    "\n",
    "# Example usage\n",
    "print(most_frequent_destination(df, 'U1'))  # Output: Delhi\n"
   ]
  },
  {
   "cell_type": "markdown",
   "id": "7b885ce7",
   "metadata": {},
   "source": [
    "Q2: Implement a moving average for time series data."
   ]
  },
  {
   "cell_type": "code",
   "execution_count": 41,
   "id": "2815edde",
   "metadata": {},
   "outputs": [],
   "source": [
    "import pandas as pd\n",
    "\n",
    "# Sample time series data\n",
    "data = [\n",
    "    {'date': '2024-01-01', 'value': 10},\n",
    "    {'date': '2024-01-02', 'value': 12},\n",
    "    {'date': '2024-01-03', 'value': 15},\n",
    "    {'date': '2024-01-04', 'value': 14},\n",
    "    {'date': '2024-01-05', 'value': 16},\n",
    "    {'date': '2024-01-06', 'value': 18},\n",
    "    {'date': '2024-01-07', 'value': 20}\n",
    "]\n",
    "\n",
    "df = pd.DataFrame(data)"
   ]
  },
  {
   "cell_type": "code",
   "execution_count": null,
   "id": "263d9397",
   "metadata": {},
   "outputs": [
    {
     "data": {
      "text/html": [
       "<div>\n",
       "<style scoped>\n",
       "    .dataframe tbody tr th:only-of-type {\n",
       "        vertical-align: middle;\n",
       "    }\n",
       "\n",
       "    .dataframe tbody tr th {\n",
       "        vertical-align: top;\n",
       "    }\n",
       "\n",
       "    .dataframe thead th {\n",
       "        text-align: right;\n",
       "    }\n",
       "</style>\n",
       "<table border=\"1\" class=\"dataframe\">\n",
       "  <thead>\n",
       "    <tr style=\"text-align: right;\">\n",
       "      <th></th>\n",
       "      <th>value</th>\n",
       "      <th>moving_avg_3</th>\n",
       "    </tr>\n",
       "    <tr>\n",
       "      <th>date</th>\n",
       "      <th></th>\n",
       "      <th></th>\n",
       "    </tr>\n",
       "  </thead>\n",
       "  <tbody>\n",
       "    <tr>\n",
       "      <th>2024-01-01</th>\n",
       "      <td>10</td>\n",
       "      <td>NaN</td>\n",
       "    </tr>\n",
       "    <tr>\n",
       "      <th>2024-01-02</th>\n",
       "      <td>12</td>\n",
       "      <td>11.0</td>\n",
       "    </tr>\n",
       "    <tr>\n",
       "      <th>2024-01-03</th>\n",
       "      <td>15</td>\n",
       "      <td>13.5</td>\n",
       "    </tr>\n",
       "    <tr>\n",
       "      <th>2024-01-04</th>\n",
       "      <td>14</td>\n",
       "      <td>14.5</td>\n",
       "    </tr>\n",
       "    <tr>\n",
       "      <th>2024-01-05</th>\n",
       "      <td>16</td>\n",
       "      <td>15.0</td>\n",
       "    </tr>\n",
       "    <tr>\n",
       "      <th>2024-01-06</th>\n",
       "      <td>18</td>\n",
       "      <td>17.0</td>\n",
       "    </tr>\n",
       "    <tr>\n",
       "      <th>2024-01-07</th>\n",
       "      <td>20</td>\n",
       "      <td>19.0</td>\n",
       "    </tr>\n",
       "  </tbody>\n",
       "</table>\n",
       "</div>"
      ],
      "text/plain": [
       "            value  moving_avg_3\n",
       "date                           \n",
       "2024-01-01     10           NaN\n",
       "2024-01-02     12          11.0\n",
       "2024-01-03     15          13.5\n",
       "2024-01-04     14          14.5\n",
       "2024-01-05     16          15.0\n",
       "2024-01-06     18          17.0\n",
       "2024-01-07     20          19.0"
      ]
     },
     "execution_count": 44,
     "metadata": {},
     "output_type": "execute_result"
    }
   ],
   "source": [
    "df['date'] = pd.to_datetime(df['date'])\n",
    "df.set_index('date', inplace = True)\n",
    "\n",
    "df['moving_avg_3'] = df['value'].rolling(window=2).mean()\n",
    "df"
   ]
  },
  {
   "cell_type": "markdown",
   "id": "8e76ac3c",
   "metadata": {},
   "source": [
    "Q3: Write code to remove outliers from a list using IQR."
   ]
  },
  {
   "cell_type": "code",
   "execution_count": 46,
   "id": "7ebe41b5",
   "metadata": {},
   "outputs": [
    {
     "data": {
      "text/plain": [
       "[10, 12, 14, 15, 15, 16, 17, 18]"
      ]
     },
     "execution_count": 46,
     "metadata": {},
     "output_type": "execute_result"
    }
   ],
   "source": [
    "data = [10, 12, 14, 15, 15, 16, 17, 18, 100]  # 100 is an outlier\n",
    "\n",
    "import numpy as np\n",
    "\n",
    "data = np.array(data)\n",
    "q1 = np.percentile(data, 25)\n",
    "q3 = np.percentile(data, 75)\n",
    "\n",
    "IQR = q3 - q1\n",
    "\n",
    "lower_bound = q1 - 1.5 * IQR\n",
    "upper_bound = q3 + 1.5 * IQR\n",
    "\n",
    "filtered_data = data[(data >= lower_bound) & (data <= upper_bound)]\n",
    "filtered_data.tolist()"
   ]
  }
 ],
 "metadata": {
  "kernelspec": {
   "display_name": "Python 3",
   "language": "python",
   "name": "python3"
  },
  "language_info": {
   "codemirror_mode": {
    "name": "ipython",
    "version": 3
   },
   "file_extension": ".py",
   "mimetype": "text/x-python",
   "name": "python",
   "nbconvert_exporter": "python",
   "pygments_lexer": "ipython3",
   "version": "3.13.2"
  }
 },
 "nbformat": 4,
 "nbformat_minor": 5
}
